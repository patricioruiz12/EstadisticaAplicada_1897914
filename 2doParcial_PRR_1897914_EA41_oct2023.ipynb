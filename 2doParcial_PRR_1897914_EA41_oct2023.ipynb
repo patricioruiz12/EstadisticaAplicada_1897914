{
 "cells": [
  {
   "cell_type": "markdown",
   "metadata": {},
   "source": [
    "## Estadística Aplicada\n",
    "Parcial #2\n",
    "\n",
    "Patricio Ruiz Rodriguez 1897914\n",
    "\n",
    "Grupo 41"
   ]
  },
  {
   "cell_type": "code",
   "execution_count": 1,
   "metadata": {},
   "outputs": [],
   "source": [
    "## Librerias\n",
    "import pandas as pd\n",
    "import numpy as np\n",
    "import matplotlib.pyplot as plt\n",
    "%matplotlib inline"
   ]
  },
  {
   "cell_type": "code",
   "execution_count": 2,
   "metadata": {},
   "outputs": [],
   "source": [
    "## Librerias especializadas\n",
    "from lifelines import ExponentialFitter\n",
    "from lifelines import WeibullFitter\n",
    "from lifelines import LogNormalFitter"
   ]
  },
  {
   "cell_type": "markdown",
   "metadata": {},
   "source": [
    "## 1. Análisis exploratorio"
   ]
  },
  {
   "cell_type": "markdown",
   "metadata": {},
   "source": [
    "a) ¿Cuántas variables y cuantas observaciones tiene la base?"
   ]
  },
  {
   "cell_type": "code",
   "execution_count": 3,
   "metadata": {},
   "outputs": [],
   "source": [
    "## Importar datos\n",
    "creditos = pd.read_csv('https://raw.githubusercontent.com/jimmyzac/Estadistica-Aplicada-FCFM-UANL/main/bases_datos/credit_risk.csv')"
   ]
  },
  {
   "cell_type": "code",
   "execution_count": 4,
   "metadata": {},
   "outputs": [
    {
     "name": "stdout",
     "output_type": "stream",
     "text": [
      "<class 'pandas.core.frame.DataFrame'>\n",
      "RangeIndex: 1000 entries, 0 to 999\n",
      "Data columns (total 21 columns):\n",
      " #   Column                   Non-Null Count  Dtype \n",
      "---  ------                   --------------  ----- \n",
      " 0   saldo_cuenta             1000 non-null   object\n",
      " 1   meses                    1000 non-null   int64 \n",
      " 2   historia_crediticia      1000 non-null   object\n",
      " 3   uso                      1000 non-null   object\n",
      " 4   cantidad                 1000 non-null   int64 \n",
      " 5   saldo_cuenta_ahorro      817 non-null    object\n",
      " 6   años_trabajando          1000 non-null   object\n",
      " 7   tasa_de_interes          1000 non-null   int64 \n",
      " 8   genero_estado_civil      1000 non-null   object\n",
      " 9   aval                     52 non-null     object\n",
      " 10  años_actual_domicilio    1000 non-null   int64 \n",
      " 11  activos                  1000 non-null   object\n",
      " 12  edad                     1000 non-null   int64 \n",
      " 13  planes_de_pago           186 non-null    object\n",
      " 14  casa                     1000 non-null   object\n",
      " 15  numero_creditos          1000 non-null   int64 \n",
      " 16  situacion_laboral        1000 non-null   object\n",
      " 17  dependientes_economicos  1000 non-null   int64 \n",
      " 18  telefono                 1000 non-null   int64 \n",
      " 19  extranjero               1000 non-null   int64 \n",
      " 20  credito_pagado           1000 non-null   int64 \n",
      "dtypes: int64(10), object(11)\n",
      "memory usage: 164.2+ KB\n"
     ]
    }
   ],
   "source": [
    "creditos.info()"
   ]
  },
  {
   "cell_type": "markdown",
   "metadata": {},
   "source": [
    "*21 variables y 1000 observaciones*"
   ]
  },
  {
   "cell_type": "markdown",
   "metadata": {},
   "source": [
    "b) ¿Cuál es el monto promedio de los créditos otorgados por el banco?"
   ]
  },
  {
   "cell_type": "code",
   "execution_count": 5,
   "metadata": {},
   "outputs": [
    {
     "data": {
      "text/html": [
       "<div>\n",
       "<style scoped>\n",
       "    .dataframe tbody tr th:only-of-type {\n",
       "        vertical-align: middle;\n",
       "    }\n",
       "\n",
       "    .dataframe tbody tr th {\n",
       "        vertical-align: top;\n",
       "    }\n",
       "\n",
       "    .dataframe thead th {\n",
       "        text-align: right;\n",
       "    }\n",
       "</style>\n",
       "<table border=\"1\" class=\"dataframe\">\n",
       "  <thead>\n",
       "    <tr style=\"text-align: right;\">\n",
       "      <th></th>\n",
       "      <th>saldo_cuenta</th>\n",
       "      <th>meses</th>\n",
       "      <th>historia_crediticia</th>\n",
       "      <th>uso</th>\n",
       "      <th>cantidad</th>\n",
       "      <th>saldo_cuenta_ahorro</th>\n",
       "      <th>años_trabajando</th>\n",
       "      <th>tasa_de_interes</th>\n",
       "      <th>genero_estado_civil</th>\n",
       "      <th>aval</th>\n",
       "      <th>...</th>\n",
       "      <th>activos</th>\n",
       "      <th>edad</th>\n",
       "      <th>planes_de_pago</th>\n",
       "      <th>casa</th>\n",
       "      <th>numero_creditos</th>\n",
       "      <th>situacion_laboral</th>\n",
       "      <th>dependientes_economicos</th>\n",
       "      <th>telefono</th>\n",
       "      <th>extranjero</th>\n",
       "      <th>credito_pagado</th>\n",
       "    </tr>\n",
       "  </thead>\n",
       "  <tbody>\n",
       "    <tr>\n",
       "      <th>0</th>\n",
       "      <td>menor_a_cero</td>\n",
       "      <td>6</td>\n",
       "      <td>no_ha_pagado</td>\n",
       "      <td>TV</td>\n",
       "      <td>1169</td>\n",
       "      <td>NaN</td>\n",
       "      <td>mas_de_7</td>\n",
       "      <td>4</td>\n",
       "      <td>hombre_soltero</td>\n",
       "      <td>NaN</td>\n",
       "      <td>...</td>\n",
       "      <td>bienes_raices</td>\n",
       "      <td>67</td>\n",
       "      <td>NaN</td>\n",
       "      <td>propia</td>\n",
       "      <td>2</td>\n",
       "      <td>gobierno</td>\n",
       "      <td>1</td>\n",
       "      <td>1</td>\n",
       "      <td>1</td>\n",
       "      <td>1</td>\n",
       "    </tr>\n",
       "    <tr>\n",
       "      <th>1</th>\n",
       "      <td>cero_a_200</td>\n",
       "      <td>48</td>\n",
       "      <td>pago_algun_credito</td>\n",
       "      <td>TV</td>\n",
       "      <td>5951</td>\n",
       "      <td>menor_100</td>\n",
       "      <td>1_a_4</td>\n",
       "      <td>2</td>\n",
       "      <td>mujer_no_soltera</td>\n",
       "      <td>NaN</td>\n",
       "      <td>...</td>\n",
       "      <td>bienes_raices</td>\n",
       "      <td>22</td>\n",
       "      <td>NaN</td>\n",
       "      <td>propia</td>\n",
       "      <td>1</td>\n",
       "      <td>gobierno</td>\n",
       "      <td>1</td>\n",
       "      <td>0</td>\n",
       "      <td>1</td>\n",
       "      <td>0</td>\n",
       "    </tr>\n",
       "    <tr>\n",
       "      <th>2</th>\n",
       "      <td>sin_cuenta</td>\n",
       "      <td>12</td>\n",
       "      <td>no_ha_pagado</td>\n",
       "      <td>colegiaturas</td>\n",
       "      <td>2096</td>\n",
       "      <td>menor_100</td>\n",
       "      <td>4_a_7</td>\n",
       "      <td>2</td>\n",
       "      <td>hombre_soltero</td>\n",
       "      <td>NaN</td>\n",
       "      <td>...</td>\n",
       "      <td>bienes_raices</td>\n",
       "      <td>49</td>\n",
       "      <td>NaN</td>\n",
       "      <td>propia</td>\n",
       "      <td>1</td>\n",
       "      <td>obrero</td>\n",
       "      <td>2</td>\n",
       "      <td>0</td>\n",
       "      <td>1</td>\n",
       "      <td>1</td>\n",
       "    </tr>\n",
       "    <tr>\n",
       "      <th>3</th>\n",
       "      <td>menor_a_cero</td>\n",
       "      <td>42</td>\n",
       "      <td>pago_algun_credito</td>\n",
       "      <td>mobiliario</td>\n",
       "      <td>7882</td>\n",
       "      <td>menor_100</td>\n",
       "      <td>4_a_7</td>\n",
       "      <td>2</td>\n",
       "      <td>hombre_soltero</td>\n",
       "      <td>aval</td>\n",
       "      <td>...</td>\n",
       "      <td>seguro_vida</td>\n",
       "      <td>45</td>\n",
       "      <td>NaN</td>\n",
       "      <td>prestada</td>\n",
       "      <td>1</td>\n",
       "      <td>gobierno</td>\n",
       "      <td>2</td>\n",
       "      <td>0</td>\n",
       "      <td>1</td>\n",
       "      <td>1</td>\n",
       "    </tr>\n",
       "    <tr>\n",
       "      <th>4</th>\n",
       "      <td>menor_a_cero</td>\n",
       "      <td>24</td>\n",
       "      <td>pago_retrasado</td>\n",
       "      <td>coche_nuevo</td>\n",
       "      <td>4870</td>\n",
       "      <td>menor_100</td>\n",
       "      <td>1_a_4</td>\n",
       "      <td>3</td>\n",
       "      <td>hombre_soltero</td>\n",
       "      <td>NaN</td>\n",
       "      <td>...</td>\n",
       "      <td>sin_activos</td>\n",
       "      <td>53</td>\n",
       "      <td>NaN</td>\n",
       "      <td>prestada</td>\n",
       "      <td>2</td>\n",
       "      <td>gobierno</td>\n",
       "      <td>2</td>\n",
       "      <td>0</td>\n",
       "      <td>1</td>\n",
       "      <td>0</td>\n",
       "    </tr>\n",
       "  </tbody>\n",
       "</table>\n",
       "<p>5 rows × 21 columns</p>\n",
       "</div>"
      ],
      "text/plain": [
       "   saldo_cuenta  meses historia_crediticia           uso  cantidad  \\\n",
       "0  menor_a_cero      6        no_ha_pagado            TV      1169   \n",
       "1    cero_a_200     48  pago_algun_credito            TV      5951   \n",
       "2    sin_cuenta     12        no_ha_pagado  colegiaturas      2096   \n",
       "3  menor_a_cero     42  pago_algun_credito    mobiliario      7882   \n",
       "4  menor_a_cero     24      pago_retrasado   coche_nuevo      4870   \n",
       "\n",
       "  saldo_cuenta_ahorro años_trabajando  tasa_de_interes genero_estado_civil  \\\n",
       "0                 NaN        mas_de_7                4      hombre_soltero   \n",
       "1           menor_100           1_a_4                2    mujer_no_soltera   \n",
       "2           menor_100           4_a_7                2      hombre_soltero   \n",
       "3           menor_100           4_a_7                2      hombre_soltero   \n",
       "4           menor_100           1_a_4                3      hombre_soltero   \n",
       "\n",
       "   aval  ...        activos edad  planes_de_pago      casa numero_creditos  \\\n",
       "0   NaN  ...  bienes_raices   67             NaN    propia               2   \n",
       "1   NaN  ...  bienes_raices   22             NaN    propia               1   \n",
       "2   NaN  ...  bienes_raices   49             NaN    propia               1   \n",
       "3  aval  ...    seguro_vida   45             NaN  prestada               1   \n",
       "4   NaN  ...    sin_activos   53             NaN  prestada               2   \n",
       "\n",
       "   situacion_laboral dependientes_economicos  telefono  extranjero  \\\n",
       "0           gobierno                       1         1           1   \n",
       "1           gobierno                       1         0           1   \n",
       "2             obrero                       2         0           1   \n",
       "3           gobierno                       2         0           1   \n",
       "4           gobierno                       2         0           1   \n",
       "\n",
       "   credito_pagado  \n",
       "0               1  \n",
       "1               0  \n",
       "2               1  \n",
       "3               1  \n",
       "4               0  \n",
       "\n",
       "[5 rows x 21 columns]"
      ]
     },
     "execution_count": 5,
     "metadata": {},
     "output_type": "execute_result"
    }
   ],
   "source": [
    "creditos.head()"
   ]
  },
  {
   "cell_type": "code",
   "execution_count": 6,
   "metadata": {},
   "outputs": [
    {
     "data": {
      "text/plain": [
       "3271.26"
      ]
     },
     "execution_count": 6,
     "metadata": {},
     "output_type": "execute_result"
    }
   ],
   "source": [
    "creditos['cantidad'].mean().round(2)"
   ]
  },
  {
   "cell_type": "markdown",
   "metadata": {},
   "source": [
    "*El monto promedio de los créditos otorgados por el banco es: €3,271.26*"
   ]
  },
  {
   "cell_type": "markdown",
   "metadata": {},
   "source": [
    "c) ¿Cuál es  el  tiempo  promedio  que  se  tardaron  en  pagar  el  préstamo  los que pagaron el préstamo en su totalidad?"
   ]
  },
  {
   "cell_type": "code",
   "execution_count": 7,
   "metadata": {},
   "outputs": [
    {
     "data": {
      "text/plain": [
       "credito_pagado\n",
       "0    24.9\n",
       "1    19.2\n",
       "Name: meses, dtype: float64"
      ]
     },
     "execution_count": 7,
     "metadata": {},
     "output_type": "execute_result"
    }
   ],
   "source": [
    "creditos.groupby('credito_pagado')['meses'].mean().round(1)"
   ]
  },
  {
   "cell_type": "markdown",
   "metadata": {},
   "source": [
    "*Las personas que pagaron el préstamo en su totalidad tardaron en pagarlo en promedio 19.2 meses*"
   ]
  },
  {
   "cell_type": "markdown",
   "metadata": {},
   "source": [
    "d) ¿Cuál es la tasa de interés promedio otorgada por el banco?"
   ]
  },
  {
   "cell_type": "code",
   "execution_count": 8,
   "metadata": {},
   "outputs": [
    {
     "data": {
      "text/plain": [
       "2.973"
      ]
     },
     "execution_count": 8,
     "metadata": {},
     "output_type": "execute_result"
    }
   ],
   "source": [
    "creditos['tasa_de_interes'].mean()"
   ]
  },
  {
   "cell_type": "markdown",
   "metadata": {},
   "source": [
    "*La tasa de interés promedio es de 2.973*"
   ]
  },
  {
   "cell_type": "markdown",
   "metadata": {},
   "source": [
    "e) ¿Cuál es el monto promedio y la tasa de interés promedio de los que ya pagaron?"
   ]
  },
  {
   "cell_type": "code",
   "execution_count": 9,
   "metadata": {},
   "outputs": [],
   "source": [
    "pagado = creditos[creditos['credito_pagado']==1]"
   ]
  },
  {
   "cell_type": "code",
   "execution_count": 10,
   "metadata": {},
   "outputs": [
    {
     "data": {
      "text/plain": [
       "2985.46"
      ]
     },
     "execution_count": 10,
     "metadata": {},
     "output_type": "execute_result"
    }
   ],
   "source": [
    "pagado['cantidad'].mean().round(2)"
   ]
  },
  {
   "cell_type": "code",
   "execution_count": 11,
   "metadata": {},
   "outputs": [
    {
     "data": {
      "text/plain": [
       "2.92"
      ]
     },
     "execution_count": 11,
     "metadata": {},
     "output_type": "execute_result"
    }
   ],
   "source": [
    "pagado['tasa_de_interes'].mean()"
   ]
  },
  {
   "cell_type": "markdown",
   "metadata": {},
   "source": [
    "*Monto promedio: €2,985.46*\n"
   ]
  },
  {
   "cell_type": "markdown",
   "metadata": {},
   "source": [
    "*Tasa de interés promedio: 2.92*"
   ]
  },
  {
   "cell_type": "markdown",
   "metadata": {},
   "source": [
    "f) ¿Cuál es el monto promedio y la tasa de interés promedio de los que no han pagado?"
   ]
  },
  {
   "cell_type": "code",
   "execution_count": 12,
   "metadata": {},
   "outputs": [],
   "source": [
    "no_pagado = creditos[creditos['credito_pagado']==0]"
   ]
  },
  {
   "cell_type": "code",
   "execution_count": 13,
   "metadata": {},
   "outputs": [
    {
     "data": {
      "text/plain": [
       "3938.13"
      ]
     },
     "execution_count": 13,
     "metadata": {},
     "output_type": "execute_result"
    }
   ],
   "source": [
    "no_pagado['cantidad'].mean().round(2)"
   ]
  },
  {
   "cell_type": "code",
   "execution_count": 14,
   "metadata": {},
   "outputs": [
    {
     "data": {
      "text/plain": [
       "3.097"
      ]
     },
     "execution_count": 14,
     "metadata": {},
     "output_type": "execute_result"
    }
   ],
   "source": [
    "no_pagado['tasa_de_interes'].mean().round(3)"
   ]
  },
  {
   "cell_type": "markdown",
   "metadata": {},
   "source": [
    "*Monto promedio: €3,938.13*"
   ]
  },
  {
   "cell_type": "markdown",
   "metadata": {},
   "source": [
    "*Tasa de interés promedio: 3.097*"
   ]
  },
  {
   "cell_type": "markdown",
   "metadata": {},
   "source": [
    "## 2. Estime un modelo de Kaplan-meier "
   ]
  },
  {
   "cell_type": "code",
   "execution_count": 15,
   "metadata": {},
   "outputs": [],
   "source": [
    "from lifelines import KaplanMeierFitter"
   ]
  },
  {
   "cell_type": "code",
   "execution_count": 16,
   "metadata": {},
   "outputs": [
    {
     "data": {
      "text/html": [
       "<div>\n",
       "<style scoped>\n",
       "    .dataframe tbody tr th:only-of-type {\n",
       "        vertical-align: middle;\n",
       "    }\n",
       "\n",
       "    .dataframe tbody tr th {\n",
       "        vertical-align: top;\n",
       "    }\n",
       "\n",
       "    .dataframe thead th {\n",
       "        text-align: right;\n",
       "    }\n",
       "</style>\n",
       "<table border=\"1\" class=\"dataframe\">\n",
       "  <thead>\n",
       "    <tr style=\"text-align: right;\">\n",
       "      <th></th>\n",
       "      <th>saldo_cuenta</th>\n",
       "      <th>meses</th>\n",
       "      <th>historia_crediticia</th>\n",
       "      <th>uso</th>\n",
       "      <th>cantidad</th>\n",
       "      <th>saldo_cuenta_ahorro</th>\n",
       "      <th>años_trabajando</th>\n",
       "      <th>tasa_de_interes</th>\n",
       "      <th>genero_estado_civil</th>\n",
       "      <th>aval</th>\n",
       "      <th>...</th>\n",
       "      <th>activos</th>\n",
       "      <th>edad</th>\n",
       "      <th>planes_de_pago</th>\n",
       "      <th>casa</th>\n",
       "      <th>numero_creditos</th>\n",
       "      <th>situacion_laboral</th>\n",
       "      <th>dependientes_economicos</th>\n",
       "      <th>telefono</th>\n",
       "      <th>extranjero</th>\n",
       "      <th>credito_pagado</th>\n",
       "    </tr>\n",
       "  </thead>\n",
       "  <tbody>\n",
       "    <tr>\n",
       "      <th>0</th>\n",
       "      <td>menor_a_cero</td>\n",
       "      <td>6</td>\n",
       "      <td>no_ha_pagado</td>\n",
       "      <td>TV</td>\n",
       "      <td>1169</td>\n",
       "      <td>NaN</td>\n",
       "      <td>mas_de_7</td>\n",
       "      <td>4</td>\n",
       "      <td>hombre_soltero</td>\n",
       "      <td>NaN</td>\n",
       "      <td>...</td>\n",
       "      <td>bienes_raices</td>\n",
       "      <td>67</td>\n",
       "      <td>NaN</td>\n",
       "      <td>propia</td>\n",
       "      <td>2</td>\n",
       "      <td>gobierno</td>\n",
       "      <td>1</td>\n",
       "      <td>1</td>\n",
       "      <td>1</td>\n",
       "      <td>1</td>\n",
       "    </tr>\n",
       "    <tr>\n",
       "      <th>1</th>\n",
       "      <td>cero_a_200</td>\n",
       "      <td>48</td>\n",
       "      <td>pago_algun_credito</td>\n",
       "      <td>TV</td>\n",
       "      <td>5951</td>\n",
       "      <td>menor_100</td>\n",
       "      <td>1_a_4</td>\n",
       "      <td>2</td>\n",
       "      <td>mujer_no_soltera</td>\n",
       "      <td>NaN</td>\n",
       "      <td>...</td>\n",
       "      <td>bienes_raices</td>\n",
       "      <td>22</td>\n",
       "      <td>NaN</td>\n",
       "      <td>propia</td>\n",
       "      <td>1</td>\n",
       "      <td>gobierno</td>\n",
       "      <td>1</td>\n",
       "      <td>0</td>\n",
       "      <td>1</td>\n",
       "      <td>0</td>\n",
       "    </tr>\n",
       "    <tr>\n",
       "      <th>2</th>\n",
       "      <td>sin_cuenta</td>\n",
       "      <td>12</td>\n",
       "      <td>no_ha_pagado</td>\n",
       "      <td>colegiaturas</td>\n",
       "      <td>2096</td>\n",
       "      <td>menor_100</td>\n",
       "      <td>4_a_7</td>\n",
       "      <td>2</td>\n",
       "      <td>hombre_soltero</td>\n",
       "      <td>NaN</td>\n",
       "      <td>...</td>\n",
       "      <td>bienes_raices</td>\n",
       "      <td>49</td>\n",
       "      <td>NaN</td>\n",
       "      <td>propia</td>\n",
       "      <td>1</td>\n",
       "      <td>obrero</td>\n",
       "      <td>2</td>\n",
       "      <td>0</td>\n",
       "      <td>1</td>\n",
       "      <td>1</td>\n",
       "    </tr>\n",
       "    <tr>\n",
       "      <th>3</th>\n",
       "      <td>menor_a_cero</td>\n",
       "      <td>42</td>\n",
       "      <td>pago_algun_credito</td>\n",
       "      <td>mobiliario</td>\n",
       "      <td>7882</td>\n",
       "      <td>menor_100</td>\n",
       "      <td>4_a_7</td>\n",
       "      <td>2</td>\n",
       "      <td>hombre_soltero</td>\n",
       "      <td>aval</td>\n",
       "      <td>...</td>\n",
       "      <td>seguro_vida</td>\n",
       "      <td>45</td>\n",
       "      <td>NaN</td>\n",
       "      <td>prestada</td>\n",
       "      <td>1</td>\n",
       "      <td>gobierno</td>\n",
       "      <td>2</td>\n",
       "      <td>0</td>\n",
       "      <td>1</td>\n",
       "      <td>1</td>\n",
       "    </tr>\n",
       "    <tr>\n",
       "      <th>4</th>\n",
       "      <td>menor_a_cero</td>\n",
       "      <td>24</td>\n",
       "      <td>pago_retrasado</td>\n",
       "      <td>coche_nuevo</td>\n",
       "      <td>4870</td>\n",
       "      <td>menor_100</td>\n",
       "      <td>1_a_4</td>\n",
       "      <td>3</td>\n",
       "      <td>hombre_soltero</td>\n",
       "      <td>NaN</td>\n",
       "      <td>...</td>\n",
       "      <td>sin_activos</td>\n",
       "      <td>53</td>\n",
       "      <td>NaN</td>\n",
       "      <td>prestada</td>\n",
       "      <td>2</td>\n",
       "      <td>gobierno</td>\n",
       "      <td>2</td>\n",
       "      <td>0</td>\n",
       "      <td>1</td>\n",
       "      <td>0</td>\n",
       "    </tr>\n",
       "  </tbody>\n",
       "</table>\n",
       "<p>5 rows × 21 columns</p>\n",
       "</div>"
      ],
      "text/plain": [
       "   saldo_cuenta  meses historia_crediticia           uso  cantidad  \\\n",
       "0  menor_a_cero      6        no_ha_pagado            TV      1169   \n",
       "1    cero_a_200     48  pago_algun_credito            TV      5951   \n",
       "2    sin_cuenta     12        no_ha_pagado  colegiaturas      2096   \n",
       "3  menor_a_cero     42  pago_algun_credito    mobiliario      7882   \n",
       "4  menor_a_cero     24      pago_retrasado   coche_nuevo      4870   \n",
       "\n",
       "  saldo_cuenta_ahorro años_trabajando  tasa_de_interes genero_estado_civil  \\\n",
       "0                 NaN        mas_de_7                4      hombre_soltero   \n",
       "1           menor_100           1_a_4                2    mujer_no_soltera   \n",
       "2           menor_100           4_a_7                2      hombre_soltero   \n",
       "3           menor_100           4_a_7                2      hombre_soltero   \n",
       "4           menor_100           1_a_4                3      hombre_soltero   \n",
       "\n",
       "   aval  ...        activos edad  planes_de_pago      casa numero_creditos  \\\n",
       "0   NaN  ...  bienes_raices   67             NaN    propia               2   \n",
       "1   NaN  ...  bienes_raices   22             NaN    propia               1   \n",
       "2   NaN  ...  bienes_raices   49             NaN    propia               1   \n",
       "3  aval  ...    seguro_vida   45             NaN  prestada               1   \n",
       "4   NaN  ...    sin_activos   53             NaN  prestada               2   \n",
       "\n",
       "   situacion_laboral dependientes_economicos  telefono  extranjero  \\\n",
       "0           gobierno                       1         1           1   \n",
       "1           gobierno                       1         0           1   \n",
       "2             obrero                       2         0           1   \n",
       "3           gobierno                       2         0           1   \n",
       "4           gobierno                       2         0           1   \n",
       "\n",
       "   credito_pagado  \n",
       "0               1  \n",
       "1               0  \n",
       "2               1  \n",
       "3               1  \n",
       "4               0  \n",
       "\n",
       "[5 rows x 21 columns]"
      ]
     },
     "execution_count": 16,
     "metadata": {},
     "output_type": "execute_result"
    }
   ],
   "source": [
    "creditos.head()"
   ]
  },
  {
   "cell_type": "markdown",
   "metadata": {},
   "source": [
    "a) ¿Cuál es la mediana del tiempo y que significa?"
   ]
  },
  {
   "cell_type": "code",
   "execution_count": 17,
   "metadata": {},
   "outputs": [],
   "source": [
    "km = KaplanMeierFitter().fit(creditos['meses'],creditos['credito_pagado'])"
   ]
  },
  {
   "cell_type": "code",
   "execution_count": 18,
   "metadata": {},
   "outputs": [
    {
     "data": {
      "text/plain": [
       "24.0"
      ]
     },
     "execution_count": 18,
     "metadata": {},
     "output_type": "execute_result"
    }
   ],
   "source": [
    "km.median_survival_time_"
   ]
  },
  {
   "cell_type": "markdown",
   "metadata": {},
   "source": [
    "*Significa que al mes 24 la mitad de las personas han pagado el credito*"
   ]
  },
  {
   "cell_type": "markdown",
   "metadata": {},
   "source": [
    "b) ¿Es mayor/menor que el tiempo promedio del inciso 1c?"
   ]
  },
  {
   "cell_type": "code",
   "execution_count": 27,
   "metadata": {},
   "outputs": [],
   "source": [
    "km3 = KaplanMeierFitter().fit(pagado['meses'],pagado['credito_pagado'])"
   ]
  },
  {
   "cell_type": "code",
   "execution_count": 28,
   "metadata": {},
   "outputs": [
    {
     "data": {
      "text/plain": [
       "18.0"
      ]
     },
     "execution_count": 28,
     "metadata": {},
     "output_type": "execute_result"
    }
   ],
   "source": [
    "km3.median_survival_time_"
   ]
  },
  {
   "cell_type": "markdown",
   "metadata": {},
   "source": [
    "*Es mayor pero el inciso 1c toma en cuenta solo a los que si pagaron el credito en su totalidad, si tomamos la mediana de solo los que si pagaron el credito en su totalidad si es menor al tiempo promedio del inciso 1c*"
   ]
  },
  {
   "cell_type": "markdown",
   "metadata": {},
   "source": [
    "## 3. Determine si el riesgo de que el préstamo se pague en su totalidad es constante,creciente, decreciente, o tipo log-normal respecto al tiempo"
   ]
  },
  {
   "cell_type": "code",
   "execution_count": 21,
   "metadata": {},
   "outputs": [
    {
     "data": {
      "text/plain": [
       "<Axes: xlabel='timeline'>"
      ]
     },
     "execution_count": 21,
     "metadata": {},
     "output_type": "execute_result"
    },
    {
     "data": {
      "image/png": "[encoded data removed]",
      "text/plain": [
       "<Figure size 640x480 with 1 Axes>"
      ]
     },
     "metadata": {},
     "output_type": "display_data"
    }
   ],
   "source": [
    "km.plot_survival_function()"
   ]
  },
  {
   "cell_type": "markdown",
   "metadata": {},
   "source": [
    "*El riesgo es decreciente conforme va aumentando el tiempo*"
   ]
  },
  {
   "cell_type": "markdown",
   "metadata": {},
   "source": [
    "## 4. Estimar un modelo de Cox para ver qué factores influyen sobre el riesgo de que el préstamo se pague en su totalidad"
   ]
  },
  {
   "cell_type": "code",
   "execution_count": 22,
   "metadata": {},
   "outputs": [],
   "source": [
    "from lifelines import CoxPHFitter\n",
    "import seaborn as sns"
   ]
  },
  {
   "cell_type": "markdown",
   "metadata": {},
   "source": [
    "a) A parte de “tasa de interes” y “cantidad”, elige otras cuatro variables que creas que afectan el riesgo del evento"
   ]
  },
  {
   "cell_type": "markdown",
   "metadata": {},
   "source": [
    "*Las variables elegidas son: tasa de interes, cantidad, dependientes económicos, teléfono crediticio, numero de créditos y edad*"
   ]
  },
  {
   "cell_type": "markdown",
   "metadata": {},
   "source": [
    "b) Di si cada una de las 6 variables que elegiste, aumentan/disminuyen el riesgo delevento y por qué"
   ]
  },
  {
   "cell_type": "markdown",
   "metadata": {},
   "source": [
    "- **Tasa de interés:** Una tasa de interes alta hará que el pago total sea mayor lo que la probabilidad de cumplimiento del crédito puede disminuir.\n",
    "- **Cantidad:** Una cantidad alta otorgada podria significar mayor dificultad de cumplimiento de pago.\n",
    "- **Dependientes económicos:** Al tener más obligaciones la probabilidad de pago puede disminuir.\n",
    "- **Teléfono:** Al no tener como ser contactado puede ser que no pague.\n",
    "- **Número de créditos:** Mayor número de créditos significa más compromisos por lo que puedes disminuir la probabilidad de cumplir con el crédito.\n",
    "- **Edad:** Mayor edad disminuye el riegos ya que la estabilidad económica puede ser mejor."
   ]
  },
  {
   "cell_type": "markdown",
   "metadata": {},
   "source": [
    "c) Realiza las transformaciones adecuadas para utilizar las variables en un modelo de cox"
   ]
  },
  {
   "cell_type": "code",
   "execution_count": 42,
   "metadata": {},
   "outputs": [],
   "source": [
    "creditos_cox = pd.DataFrame(creditos, columns=['meses','credito_pagado','tasa_de_interes','cantidad','dependientes_economicos','telefono','numero_creditos','edad'])"
   ]
  },
  {
   "cell_type": "code",
   "execution_count": 43,
   "metadata": {},
   "outputs": [
    {
     "data": {
      "text/html": [
       "<div>\n",
       "<style scoped>\n",
       "    .dataframe tbody tr th:only-of-type {\n",
       "        vertical-align: middle;\n",
       "    }\n",
       "\n",
       "    .dataframe tbody tr th {\n",
       "        vertical-align: top;\n",
       "    }\n",
       "\n",
       "    .dataframe thead th {\n",
       "        text-align: right;\n",
       "    }\n",
       "</style>\n",
       "<table border=\"1\" class=\"dataframe\">\n",
       "  <thead>\n",
       "    <tr style=\"text-align: right;\">\n",
       "      <th></th>\n",
       "      <th>meses</th>\n",
       "      <th>credito_pagado</th>\n",
       "      <th>tasa_de_interes</th>\n",
       "      <th>cantidad</th>\n",
       "      <th>dependientes_economicos</th>\n",
       "      <th>telefono</th>\n",
       "      <th>numero_creditos</th>\n",
       "      <th>edad</th>\n",
       "    </tr>\n",
       "  </thead>\n",
       "  <tbody>\n",
       "    <tr>\n",
       "      <th>0</th>\n",
       "      <td>6</td>\n",
       "      <td>1</td>\n",
       "      <td>4</td>\n",
       "      <td>1169</td>\n",
       "      <td>1</td>\n",
       "      <td>1</td>\n",
       "      <td>2</td>\n",
       "      <td>67</td>\n",
       "    </tr>\n",
       "    <tr>\n",
       "      <th>1</th>\n",
       "      <td>48</td>\n",
       "      <td>0</td>\n",
       "      <td>2</td>\n",
       "      <td>5951</td>\n",
       "      <td>1</td>\n",
       "      <td>0</td>\n",
       "      <td>1</td>\n",
       "      <td>22</td>\n",
       "    </tr>\n",
       "    <tr>\n",
       "      <th>2</th>\n",
       "      <td>12</td>\n",
       "      <td>1</td>\n",
       "      <td>2</td>\n",
       "      <td>2096</td>\n",
       "      <td>2</td>\n",
       "      <td>0</td>\n",
       "      <td>1</td>\n",
       "      <td>49</td>\n",
       "    </tr>\n",
       "    <tr>\n",
       "      <th>3</th>\n",
       "      <td>42</td>\n",
       "      <td>1</td>\n",
       "      <td>2</td>\n",
       "      <td>7882</td>\n",
       "      <td>2</td>\n",
       "      <td>0</td>\n",
       "      <td>1</td>\n",
       "      <td>45</td>\n",
       "    </tr>\n",
       "    <tr>\n",
       "      <th>4</th>\n",
       "      <td>24</td>\n",
       "      <td>0</td>\n",
       "      <td>3</td>\n",
       "      <td>4870</td>\n",
       "      <td>2</td>\n",
       "      <td>0</td>\n",
       "      <td>2</td>\n",
       "      <td>53</td>\n",
       "    </tr>\n",
       "    <tr>\n",
       "      <th>...</th>\n",
       "      <td>...</td>\n",
       "      <td>...</td>\n",
       "      <td>...</td>\n",
       "      <td>...</td>\n",
       "      <td>...</td>\n",
       "      <td>...</td>\n",
       "      <td>...</td>\n",
       "      <td>...</td>\n",
       "    </tr>\n",
       "    <tr>\n",
       "      <th>995</th>\n",
       "      <td>12</td>\n",
       "      <td>1</td>\n",
       "      <td>3</td>\n",
       "      <td>1736</td>\n",
       "      <td>1</td>\n",
       "      <td>0</td>\n",
       "      <td>1</td>\n",
       "      <td>31</td>\n",
       "    </tr>\n",
       "    <tr>\n",
       "      <th>996</th>\n",
       "      <td>30</td>\n",
       "      <td>1</td>\n",
       "      <td>4</td>\n",
       "      <td>3857</td>\n",
       "      <td>1</td>\n",
       "      <td>1</td>\n",
       "      <td>1</td>\n",
       "      <td>40</td>\n",
       "    </tr>\n",
       "    <tr>\n",
       "      <th>997</th>\n",
       "      <td>12</td>\n",
       "      <td>1</td>\n",
       "      <td>4</td>\n",
       "      <td>804</td>\n",
       "      <td>1</td>\n",
       "      <td>0</td>\n",
       "      <td>1</td>\n",
       "      <td>38</td>\n",
       "    </tr>\n",
       "    <tr>\n",
       "      <th>998</th>\n",
       "      <td>45</td>\n",
       "      <td>0</td>\n",
       "      <td>4</td>\n",
       "      <td>1845</td>\n",
       "      <td>1</td>\n",
       "      <td>1</td>\n",
       "      <td>1</td>\n",
       "      <td>23</td>\n",
       "    </tr>\n",
       "    <tr>\n",
       "      <th>999</th>\n",
       "      <td>45</td>\n",
       "      <td>1</td>\n",
       "      <td>3</td>\n",
       "      <td>4576</td>\n",
       "      <td>1</td>\n",
       "      <td>0</td>\n",
       "      <td>1</td>\n",
       "      <td>27</td>\n",
       "    </tr>\n",
       "  </tbody>\n",
       "</table>\n",
       "<p>1000 rows × 8 columns</p>\n",
       "</div>"
      ],
      "text/plain": [
       "     meses  credito_pagado  tasa_de_interes  cantidad  \\\n",
       "0        6               1                4      1169   \n",
       "1       48               0                2      5951   \n",
       "2       12               1                2      2096   \n",
       "3       42               1                2      7882   \n",
       "4       24               0                3      4870   \n",
       "..     ...             ...              ...       ...   \n",
       "995     12               1                3      1736   \n",
       "996     30               1                4      3857   \n",
       "997     12               1                4       804   \n",
       "998     45               0                4      1845   \n",
       "999     45               1                3      4576   \n",
       "\n",
       "     dependientes_economicos  telefono  numero_creditos  edad  \n",
       "0                          1         1                2    67  \n",
       "1                          1         0                1    22  \n",
       "2                          2         0                1    49  \n",
       "3                          2         0                1    45  \n",
       "4                          2         0                2    53  \n",
       "..                       ...       ...              ...   ...  \n",
       "995                        1         0                1    31  \n",
       "996                        1         1                1    40  \n",
       "997                        1         0                1    38  \n",
       "998                        1         1                1    23  \n",
       "999                        1         0                1    27  \n",
       "\n",
       "[1000 rows x 8 columns]"
      ]
     },
     "execution_count": 43,
     "metadata": {},
     "output_type": "execute_result"
    }
   ],
   "source": [
    "creditos_cox"
   ]
  },
  {
   "cell_type": "code",
   "execution_count": 44,
   "metadata": {},
   "outputs": [
    {
     "data": {
      "text/plain": [
       "meses                      0\n",
       "credito_pagado             0\n",
       "tasa_de_interes            0\n",
       "cantidad                   0\n",
       "dependientes_economicos    0\n",
       "telefono                   0\n",
       "numero_creditos            0\n",
       "edad                       0\n",
       "dtype: int64"
      ]
     },
     "execution_count": 44,
     "metadata": {},
     "output_type": "execute_result"
    }
   ],
   "source": [
    "creditos_cox.isnull().sum()"
   ]
  },
  {
   "cell_type": "code",
   "execution_count": 45,
   "metadata": {},
   "outputs": [
    {
     "data": {
      "text/plain": [
       "meses                      int64\n",
       "credito_pagado             int64\n",
       "tasa_de_interes            int64\n",
       "cantidad                   int64\n",
       "dependientes_economicos    int64\n",
       "telefono                   int64\n",
       "numero_creditos            int64\n",
       "edad                       int64\n",
       "dtype: object"
      ]
     },
     "execution_count": 45,
     "metadata": {},
     "output_type": "execute_result"
    }
   ],
   "source": [
    "creditos_cox.dtypes"
   ]
  },
  {
   "cell_type": "markdown",
   "metadata": {},
   "source": [
    "d) Estima  un  modelo  de  cox  con  las  variables  elegidas  e  interpreta  los coeficientes."
   ]
  },
  {
   "cell_type": "code",
   "execution_count": 51,
   "metadata": {},
   "outputs": [
    {
     "ename": "ImportError",
     "evalue": "Missing optional dependency 'Jinja2'. DataFrame.style requires jinja2. Use pip or conda to install Jinja2.",
     "output_type": "error",
     "traceback": [
      "\u001b[1;31m---------------------------------------------------------------------------\u001b[0m",
      "\u001b[1;31mModuleNotFoundError\u001b[0m                       Traceback (most recent call last)",
      "File \u001b[1;32m~\\AppData\\Local\\Packages\\PythonSoftwareFoundation.Python.3.11_qbz5n2kfra8p0\\LocalCache\\local-packages\\Python311\\site-packages\\pandas\\compat\\_optional.py:142\u001b[0m, in \u001b[0;36mimport_optional_dependency\u001b[1;34m(name, extra, errors, min_version)\u001b[0m\n\u001b[0;32m    141\u001b[0m \u001b[39mtry\u001b[39;00m:\n\u001b[1;32m--> 142\u001b[0m     module \u001b[39m=\u001b[39m importlib\u001b[39m.\u001b[39;49mimport_module(name)\n\u001b[0;32m    143\u001b[0m \u001b[39mexcept\u001b[39;00m \u001b[39mImportError\u001b[39;00m:\n",
      "File \u001b[1;32mC:\\Program Files\\WindowsApps\\PythonSoftwareFoundation.Python.3.11_3.11.1776.0_x64__qbz5n2kfra8p0\\Lib\\importlib\\__init__.py:126\u001b[0m, in \u001b[0;36mimport_module\u001b[1;34m(name, package)\u001b[0m\n\u001b[0;32m    125\u001b[0m         level \u001b[39m+\u001b[39m\u001b[39m=\u001b[39m \u001b[39m1\u001b[39m\n\u001b[1;32m--> 126\u001b[0m \u001b[39mreturn\u001b[39;00m _bootstrap\u001b[39m.\u001b[39;49m_gcd_import(name[level:], package, level)\n",
      "File \u001b[1;32m<frozen importlib._bootstrap>:1204\u001b[0m, in \u001b[0;36m_gcd_import\u001b[1;34m(name, package, level)\u001b[0m\n",
      "File \u001b[1;32m<frozen importlib._bootstrap>:1176\u001b[0m, in \u001b[0;36m_find_and_load\u001b[1;34m(name, import_)\u001b[0m\n",
      "File \u001b[1;32m<frozen importlib._bootstrap>:1140\u001b[0m, in \u001b[0;36m_find_and_load_unlocked\u001b[1;34m(name, import_)\u001b[0m\n",
      "\u001b[1;31mModuleNotFoundError\u001b[0m: No module named 'jinja2'",
      "\nDuring handling of the above exception, another exception occurred:\n",
      "\u001b[1;31mImportError\u001b[0m                               Traceback (most recent call last)",
      "File \u001b[1;32m~\\AppData\\Local\\Packages\\PythonSoftwareFoundation.Python.3.11_qbz5n2kfra8p0\\LocalCache\\local-packages\\Python311\\site-packages\\IPython\\core\\formatters.py:344\u001b[0m, in \u001b[0;36mBaseFormatter.__call__\u001b[1;34m(self, obj)\u001b[0m\n\u001b[0;32m    342\u001b[0m     method \u001b[39m=\u001b[39m get_real_method(obj, \u001b[39mself\u001b[39m\u001b[39m.\u001b[39mprint_method)\n\u001b[0;32m    343\u001b[0m     \u001b[39mif\u001b[39;00m method \u001b[39mis\u001b[39;00m \u001b[39mnot\u001b[39;00m \u001b[39mNone\u001b[39;00m:\n\u001b[1;32m--> 344\u001b[0m         \u001b[39mreturn\u001b[39;00m method()\n\u001b[0;32m    345\u001b[0m     \u001b[39mreturn\u001b[39;00m \u001b[39mNone\u001b[39;00m\n\u001b[0;32m    346\u001b[0m \u001b[39melse\u001b[39;00m:\n",
      "File \u001b[1;32m~\\AppData\\Local\\Packages\\PythonSoftwareFoundation.Python.3.11_qbz5n2kfra8p0\\LocalCache\\local-packages\\Python311\\site-packages\\lifelines\\utils\\printer.py:185\u001b[0m, in \u001b[0;36mPrinter._repr_latex_\u001b[1;34m(self)\u001b[0m\n\u001b[0;32m    182\u001b[0m \u001b[39mdef\u001b[39;00m \u001b[39m_repr_latex_\u001b[39m(\n\u001b[0;32m    183\u001b[0m     \u001b[39mself\u001b[39m,\n\u001b[0;32m    184\u001b[0m ):\n\u001b[1;32m--> 185\u001b[0m     \u001b[39mreturn\u001b[39;00m \u001b[39mself\u001b[39;49m\u001b[39m.\u001b[39;49mto_latex()\n",
      "File \u001b[1;32m~\\AppData\\Local\\Packages\\PythonSoftwareFoundation.Python.3.11_qbz5n2kfra8p0\\LocalCache\\local-packages\\Python311\\site-packages\\lifelines\\utils\\printer.py:62\u001b[0m, in \u001b[0;36mPrinter.to_latex\u001b[1;34m(self)\u001b[0m\n\u001b[0;32m     60\u001b[0m \u001b[39melse\u001b[39;00m:\n\u001b[0;32m     61\u001b[0m     columns \u001b[39m=\u001b[39m summary_df\u001b[39m.\u001b[39mcolumns\u001b[39m.\u001b[39mintersection(\u001b[39mself\u001b[39m\u001b[39m.\u001b[39mcolumns)\n\u001b[1;32m---> 62\u001b[0m s \u001b[39m=\u001b[39m summary_df[columns]\u001b[39m.\u001b[39;49mstyle\n\u001b[0;32m     63\u001b[0m s \u001b[39m=\u001b[39m s\u001b[39m.\u001b[39mformat(precision\u001b[39m=\u001b[39m\u001b[39mself\u001b[39m\u001b[39m.\u001b[39mdecimals)\n\u001b[0;32m     64\u001b[0m \u001b[39mreturn\u001b[39;00m s\u001b[39m.\u001b[39mto_latex()\n",
      "File \u001b[1;32m~\\AppData\\Local\\Packages\\PythonSoftwareFoundation.Python.3.11_qbz5n2kfra8p0\\LocalCache\\local-packages\\Python311\\site-packages\\pandas\\core\\frame.py:1291\u001b[0m, in \u001b[0;36mDataFrame.style\u001b[1;34m(self)\u001b[0m\n\u001b[0;32m   1279\u001b[0m \u001b[39m@property\u001b[39m\n\u001b[0;32m   1280\u001b[0m \u001b[39mdef\u001b[39;00m \u001b[39mstyle\u001b[39m(\u001b[39mself\u001b[39m) \u001b[39m-\u001b[39m\u001b[39m>\u001b[39m Styler:\n\u001b[0;32m   1281\u001b[0m \u001b[39m    \u001b[39m\u001b[39m\"\"\"\u001b[39;00m\n\u001b[0;32m   1282\u001b[0m \u001b[39m    Returns a Styler object.\u001b[39;00m\n\u001b[0;32m   1283\u001b[0m \n\u001b[1;32m   (...)\u001b[0m\n\u001b[0;32m   1289\u001b[0m \u001b[39m        data with HTML and CSS.\u001b[39;00m\n\u001b[0;32m   1290\u001b[0m \u001b[39m    \"\"\"\u001b[39;00m\n\u001b[1;32m-> 1291\u001b[0m     \u001b[39mfrom\u001b[39;00m \u001b[39mpandas\u001b[39;00m\u001b[39m.\u001b[39;00m\u001b[39mio\u001b[39;00m\u001b[39m.\u001b[39;00m\u001b[39mformats\u001b[39;00m\u001b[39m.\u001b[39;00m\u001b[39mstyle\u001b[39;00m \u001b[39mimport\u001b[39;00m Styler\n\u001b[0;32m   1293\u001b[0m     \u001b[39mreturn\u001b[39;00m Styler(\u001b[39mself\u001b[39m)\n",
      "File \u001b[1;32m~\\AppData\\Local\\Packages\\PythonSoftwareFoundation.Python.3.11_qbz5n2kfra8p0\\LocalCache\\local-packages\\Python311\\site-packages\\pandas\\io\\formats\\style.py:56\u001b[0m\n\u001b[0;32m     52\u001b[0m \u001b[39mfrom\u001b[39;00m \u001b[39mpandas\u001b[39;00m\u001b[39m.\u001b[39;00m\u001b[39mcore\u001b[39;00m\u001b[39m.\u001b[39;00m\u001b[39mshared_docs\u001b[39;00m \u001b[39mimport\u001b[39;00m _shared_docs\n\u001b[0;32m     54\u001b[0m \u001b[39mfrom\u001b[39;00m \u001b[39mpandas\u001b[39;00m\u001b[39m.\u001b[39;00m\u001b[39mio\u001b[39;00m\u001b[39m.\u001b[39;00m\u001b[39mformats\u001b[39;00m\u001b[39m.\u001b[39;00m\u001b[39mformat\u001b[39;00m \u001b[39mimport\u001b[39;00m save_to_buffer\n\u001b[1;32m---> 56\u001b[0m jinja2 \u001b[39m=\u001b[39m import_optional_dependency(\u001b[39m\"\u001b[39;49m\u001b[39mjinja2\u001b[39;49m\u001b[39m\"\u001b[39;49m, extra\u001b[39m=\u001b[39;49m\u001b[39m\"\u001b[39;49m\u001b[39mDataFrame.style requires jinja2.\u001b[39;49m\u001b[39m\"\u001b[39;49m)\n\u001b[0;32m     58\u001b[0m \u001b[39mfrom\u001b[39;00m \u001b[39mpandas\u001b[39;00m\u001b[39m.\u001b[39;00m\u001b[39mio\u001b[39;00m\u001b[39m.\u001b[39;00m\u001b[39mformats\u001b[39;00m\u001b[39m.\u001b[39;00m\u001b[39mstyle_render\u001b[39;00m \u001b[39mimport\u001b[39;00m (\n\u001b[0;32m     59\u001b[0m     CSSProperties,\n\u001b[0;32m     60\u001b[0m     CSSStyles,\n\u001b[1;32m   (...)\u001b[0m\n\u001b[0;32m     68\u001b[0m     refactor_levels,\n\u001b[0;32m     69\u001b[0m )\n\u001b[0;32m     71\u001b[0m \u001b[39mif\u001b[39;00m TYPE_CHECKING:\n",
      "File \u001b[1;32m~\\AppData\\Local\\Packages\\PythonSoftwareFoundation.Python.3.11_qbz5n2kfra8p0\\LocalCache\\local-packages\\Python311\\site-packages\\pandas\\compat\\_optional.py:145\u001b[0m, in \u001b[0;36mimport_optional_dependency\u001b[1;34m(name, extra, errors, min_version)\u001b[0m\n\u001b[0;32m    143\u001b[0m \u001b[39mexcept\u001b[39;00m \u001b[39mImportError\u001b[39;00m:\n\u001b[0;32m    144\u001b[0m     \u001b[39mif\u001b[39;00m errors \u001b[39m==\u001b[39m \u001b[39m\"\u001b[39m\u001b[39mraise\u001b[39m\u001b[39m\"\u001b[39m:\n\u001b[1;32m--> 145\u001b[0m         \u001b[39mraise\u001b[39;00m \u001b[39mImportError\u001b[39;00m(msg)\n\u001b[0;32m    146\u001b[0m     \u001b[39mreturn\u001b[39;00m \u001b[39mNone\u001b[39;00m\n\u001b[0;32m    148\u001b[0m \u001b[39m# Handle submodules: if we have submodule, grab parent module from sys.modules\u001b[39;00m\n",
      "\u001b[1;31mImportError\u001b[0m: Missing optional dependency 'Jinja2'. DataFrame.style requires jinja2. Use pip or conda to install Jinja2."
     ]
    },
    {
     "data": {
      "text/html": [
       "<div>\n",
       "<style scoped>\n",
       "    .dataframe tbody tr th:only-of-type {\n",
       "        vertical-align: middle;\n",
       "    }\n",
       "\n",
       "    .dataframe tbody tr th {\n",
       "        vertical-align: top;\n",
       "    }\n",
       "\n",
       "    .dataframe thead th {\n",
       "        text-align: right;\n",
       "    }\n",
       "</style>\n",
       "<table border=\"1\" class=\"dataframe\">\n",
       "  <tbody>\n",
       "    <tr>\n",
       "      <th>model</th>\n",
       "      <td>lifelines.CoxPHFitter</td>\n",
       "    </tr>\n",
       "    <tr>\n",
       "      <th>duration col</th>\n",
       "      <td>'meses'</td>\n",
       "    </tr>\n",
       "    <tr>\n",
       "      <th>event col</th>\n",
       "      <td>'credito_pagado'</td>\n",
       "    </tr>\n",
       "    <tr>\n",
       "      <th>baseline estimation</th>\n",
       "      <td>breslow</td>\n",
       "    </tr>\n",
       "    <tr>\n",
       "      <th>number of observations</th>\n",
       "      <td>1000</td>\n",
       "    </tr>\n",
       "    <tr>\n",
       "      <th>number of events observed</th>\n",
       "      <td>700</td>\n",
       "    </tr>\n",
       "    <tr>\n",
       "      <th>partial log-likelihood</th>\n",
       "      <td>-4057.16</td>\n",
       "    </tr>\n",
       "    <tr>\n",
       "      <th>time fit was run</th>\n",
       "      <td>2023-10-07 19:11:59 UTC</td>\n",
       "    </tr>\n",
       "  </tbody>\n",
       "</table>\n",
       "</div><table border=\"1\" class=\"dataframe\">\n",
       "  <thead>\n",
       "    <tr style=\"text-align: right;\">\n",
       "      <th style=\"min-width: 12px;\"></th>\n",
       "      <th style=\"min-width: 12px;\">coef</th>\n",
       "      <th style=\"min-width: 12px;\">exp(coef)</th>\n",
       "      <th style=\"min-width: 12px;\">se(coef)</th>\n",
       "      <th style=\"min-width: 12px;\">coef lower 95%</th>\n",
       "      <th style=\"min-width: 12px;\">coef upper 95%</th>\n",
       "      <th style=\"min-width: 12px;\">exp(coef) lower 95%</th>\n",
       "      <th style=\"min-width: 12px;\">exp(coef) upper 95%</th>\n",
       "      <th style=\"min-width: 12px;\">cmp to</th>\n",
       "      <th style=\"min-width: 12px;\">z</th>\n",
       "      <th style=\"min-width: 12px;\">p</th>\n",
       "      <th style=\"min-width: 12px;\">-log2(p)</th>\n",
       "    </tr>\n",
       "  </thead>\n",
       "  <tbody>\n",
       "    <tr>\n",
       "      <th>tasa_de_interes</th>\n",
       "      <td>-0.42</td>\n",
       "      <td>0.66</td>\n",
       "      <td>0.04</td>\n",
       "      <td>-0.49</td>\n",
       "      <td>-0.35</td>\n",
       "      <td>0.61</td>\n",
       "      <td>0.71</td>\n",
       "      <td>0.00</td>\n",
       "      <td>-11.49</td>\n",
       "      <td>&lt;0.005</td>\n",
       "      <td>99.14</td>\n",
       "    </tr>\n",
       "    <tr>\n",
       "      <th>cantidad</th>\n",
       "      <td>-0.00</td>\n",
       "      <td>1.00</td>\n",
       "      <td>0.00</td>\n",
       "      <td>-0.00</td>\n",
       "      <td>-0.00</td>\n",
       "      <td>1.00</td>\n",
       "      <td>1.00</td>\n",
       "      <td>0.00</td>\n",
       "      <td>-16.45</td>\n",
       "      <td>&lt;0.005</td>\n",
       "      <td>199.68</td>\n",
       "    </tr>\n",
       "    <tr>\n",
       "      <th>dependientes_economicos</th>\n",
       "      <td>0.03</td>\n",
       "      <td>1.03</td>\n",
       "      <td>0.11</td>\n",
       "      <td>-0.18</td>\n",
       "      <td>0.23</td>\n",
       "      <td>0.84</td>\n",
       "      <td>1.26</td>\n",
       "      <td>0.00</td>\n",
       "      <td>0.26</td>\n",
       "      <td>0.79</td>\n",
       "      <td>0.34</td>\n",
       "    </tr>\n",
       "    <tr>\n",
       "      <th>telefono</th>\n",
       "      <td>0.10</td>\n",
       "      <td>1.10</td>\n",
       "      <td>0.08</td>\n",
       "      <td>-0.06</td>\n",
       "      <td>0.25</td>\n",
       "      <td>0.95</td>\n",
       "      <td>1.29</td>\n",
       "      <td>0.00</td>\n",
       "      <td>1.25</td>\n",
       "      <td>0.21</td>\n",
       "      <td>2.23</td>\n",
       "    </tr>\n",
       "    <tr>\n",
       "      <th>numero_creditos</th>\n",
       "      <td>0.11</td>\n",
       "      <td>1.12</td>\n",
       "      <td>0.07</td>\n",
       "      <td>-0.02</td>\n",
       "      <td>0.24</td>\n",
       "      <td>0.98</td>\n",
       "      <td>1.27</td>\n",
       "      <td>0.00</td>\n",
       "      <td>1.64</td>\n",
       "      <td>0.10</td>\n",
       "      <td>3.32</td>\n",
       "    </tr>\n",
       "    <tr>\n",
       "      <th>edad</th>\n",
       "      <td>0.01</td>\n",
       "      <td>1.01</td>\n",
       "      <td>0.00</td>\n",
       "      <td>0.01</td>\n",
       "      <td>0.02</td>\n",
       "      <td>1.01</td>\n",
       "      <td>1.02</td>\n",
       "      <td>0.00</td>\n",
       "      <td>4.15</td>\n",
       "      <td>&lt;0.005</td>\n",
       "      <td>14.89</td>\n",
       "    </tr>\n",
       "  </tbody>\n",
       "</table><br><div>\n",
       "<style scoped>\n",
       "    .dataframe tbody tr th:only-of-type {\n",
       "        vertical-align: middle;\n",
       "    }\n",
       "\n",
       "    .dataframe tbody tr th {\n",
       "        vertical-align: top;\n",
       "    }\n",
       "\n",
       "    .dataframe thead th {\n",
       "        text-align: right;\n",
       "    }\n",
       "</style>\n",
       "<table border=\"1\" class=\"dataframe\">\n",
       "  <tbody>\n",
       "    <tr>\n",
       "      <th>Concordance</th>\n",
       "      <td>0.78</td>\n",
       "    </tr>\n",
       "    <tr>\n",
       "      <th>Partial AIC</th>\n",
       "      <td>8126.32</td>\n",
       "    </tr>\n",
       "    <tr>\n",
       "      <th>log-likelihood ratio test</th>\n",
       "      <td>424.45 on 6 df</td>\n",
       "    </tr>\n",
       "    <tr>\n",
       "      <th>-log2(p) of ll-ratio test</th>\n",
       "      <td>291.71</td>\n",
       "    </tr>\n",
       "  </tbody>\n",
       "</table>\n",
       "</div>"
      ],
      "text/plain": [
       "<lifelines.CoxPHFitter: fitted with 1000 total observations, 300 right-censored observations>\n",
       "             duration col = 'meses'\n",
       "                event col = 'credito_pagado'\n",
       "      baseline estimation = breslow\n",
       "   number of observations = 1000\n",
       "number of events observed = 700\n",
       "   partial log-likelihood = -4057.16\n",
       "         time fit was run = 2023-10-07 19:11:59 UTC\n",
       "\n",
       "---\n",
       "                          coef  exp(coef)   se(coef)   coef lower 95%   coef upper 95%  exp(coef) lower 95%  exp(coef) upper 95%\n",
       "covariate                                                                                                                       \n",
       "tasa_de_interes          -0.42       0.66       0.04            -0.49            -0.35                 0.61                 0.71\n",
       "cantidad                 -0.00       1.00       0.00            -0.00            -0.00                 1.00                 1.00\n",
       "dependientes_economicos   0.03       1.03       0.11            -0.18             0.23                 0.84                 1.26\n",
       "telefono                  0.10       1.10       0.08            -0.06             0.25                 0.95                 1.29\n",
       "numero_creditos           0.11       1.12       0.07            -0.02             0.24                 0.98                 1.27\n",
       "edad                      0.01       1.01       0.00             0.01             0.02                 1.01                 1.02\n",
       "\n",
       "                          cmp to      z      p   -log2(p)\n",
       "covariate                                                \n",
       "tasa_de_interes             0.00 -11.49 <0.005      99.14\n",
       "cantidad                    0.00 -16.45 <0.005     199.68\n",
       "dependientes_economicos     0.00   0.26   0.79       0.34\n",
       "telefono                    0.00   1.25   0.21       2.23\n",
       "numero_creditos             0.00   1.64   0.10       3.32\n",
       "edad                        0.00   4.15 <0.005      14.89\n",
       "---\n",
       "Concordance = 0.78\n",
       "Partial AIC = 8126.32\n",
       "log-likelihood ratio test = 424.45 on 6 df\n",
       "-log2(p) of ll-ratio test = 291.71"
      ]
     },
     "metadata": {},
     "output_type": "display_data"
    }
   ],
   "source": [
    "cph1 = CoxPHFitter().fit(creditos_cox,'meses', 'credito_pagado')\n",
    "cph1.print_summary()"
   ]
  },
  {
   "cell_type": "markdown",
   "metadata": {},
   "source": [
    "**H0:** Bi = 0 \n",
    "\n",
    "**H1:** Bi != 0\n",
    "\n",
    " p-value < $\\alpha$ (.05) ->  Se rechaza Ho.\n",
    "\n",
    "- **Tasa de interés:** 0.005<0.05 Se rechaza H0, por lo tanto la variable es significativa en el modelo, la tasa de interés si tiene influencia en el tiempo de pago.\n",
    "- **Cantidad:** 0.005<0.05 Se rechaza H0, por lo tanto la variable es significativa en el modelo, la cantidad si tiene influencia en el tiempo de pago.\n",
    "- **Dependientes económicos:** 0.79>0.05 No se rechaza H0, por lo tanto esta variable no es significativa, tener dependientes económicos no tiene influencia en el tiempo de pago.\n",
    "- **Teléfono:** 0.21>0.05 No se rechaza H0, por lo tanto esta variable no es significativa, tener teléfono no tiene influencia en el tiempo de pago.\n",
    "- **Número de créditos:** 0.1>0.05 No se rechaza H0, por lo tanto esta variable no es significativa, el número de créditos no tiene influencia en el tiempo de pago.\n",
    "- **Edad:** 0.005<0.05 Se rechaza H0, por lo tanto la variable es significativa en el modelo, , la edad si tiene influencia en el tiempo de pago."
   ]
  },
  {
   "cell_type": "markdown",
   "metadata": {},
   "source": [
    "## 5. Con  base  en  los  cálculos  realizados,  redacta  un  comentario integral de  por  lo menos  250 palabras que  resuma  el  análisis,  reflexiones  y  recomendaciones sobre la política de otorgamiento de créditos en el Banco de la Ilusión."
   ]
  },
  {
   "cell_type": "markdown",
   "metadata": {},
   "source": [
    "*El banco evidentemente desea que sus clientes realicen el pago completo de sus préstamos es por esto por lo que se les recomienda que, al otorgar un crédito a una persona, se revisen con mayor énfasis las características del cliente que identificamos, tienen un impacto en la probabilidad de que el cliente cumpla o incumpla.* \n",
    "\n",
    "*Como vimos, una tasa de interés alta hace más probable que los clientes incumplan con su pago con mayor facilidad, es por esto por lo que recomendamos al banco otorgar tasa de interés más bajas que resultaran en menos ganancias por cada préstamo, pero un mayor índice de pago por parte de los clientes.*\n",
    "\n",
    " *Por otro lado, la cantidad que se otorga en cada crédito también afecta la probabilidad de incumplimiento, los créditos más grandes son más probables de no ser pagados en su totalidad, pero esto está relacionado a su vez a la tasa de interés vista en el punto anterior.*\n",
    "\n",
    "*En cuanto a la edad, entre mayor sea esta, es más probable que se cumpla con el pago, por lo que una medida puede ser que a los clientes más jóvenes se les otorgue solamente créditos con una cantidad no tan alta.*\n",
    "\n",
    "*También analizamos que en promedio las personas que si realizaron el pago completo de su préstamo lo hicieron en 19.2 meses por lo que recomendamos al banco no otorgar créditos que sean superiores por muchos meses a este número ya que después de los 30 meses la probabilidad de que se pague el crédito completamente es menor al 40%*\n"
   ]
  }
 ],
 "metadata": {
  "kernelspec": {
   "display_name": "Python 3",
   "language": "python",
   "name": "python3"
  },
  "language_info": {
   "codemirror_mode": {
    "name": "ipython",
    "version": 3
   },
   "file_extension": ".py",
   "mimetype": "text/x-python",
   "name": "python",
   "nbconvert_exporter": "python",
   "pygments_lexer": "ipython3",
   "version": "3.11.6"
  },
  "orig_nbformat": 4
 },
 "nbformat": 4,
 "nbformat_minor": 2
}
